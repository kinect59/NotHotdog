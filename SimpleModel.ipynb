{
 "cells": [
  {
   "cell_type": "code",
   "execution_count": 7,
   "metadata": {},
   "outputs": [],
   "source": [
    "from keras.preprocessing.image import ImageDataGenerator\n",
    "from keras.models import Sequential\n",
    "from keras.layers import Conv2D, MaxPooling2D\n",
    "from keras.layers import Activation, Dropout, Flatten, Dense\n",
    "from keras import backend as K"
   ]
  },
  {
   "cell_type": "code",
   "execution_count": 8,
   "metadata": {},
   "outputs": [],
   "source": [
    "# dimensions of our images.\n",
    "img_width, img_height = 150, 150\n",
    "\n",
    "train_data_dir = 'data/train'\n",
    "validation_data_dir = 'data/validation'\n",
    "nb_train_samples = 210\n",
    "nb_validation_samples = 100\n",
    "epochs = 50\n",
    "batch_size = 16\n",
    "\n",
    "if K.image_data_format() == 'channels_first':\n",
    "    input_shape = (3, img_width, img_height)\n",
    "else:\n",
    "    input_shape = (img_width, img_height, 3)"
   ]
  },
  {
   "cell_type": "markdown",
   "metadata": {},
   "source": [
    "Defining the architecture of our network:"
   ]
  },
  {
   "cell_type": "code",
   "execution_count": 9,
   "metadata": {},
   "outputs": [],
   "source": [
    "model = Sequential()\n",
    "model.add(Conv2D(32, (3, 3), input_shape=input_shape))\n",
    "model.add(Activation('relu'))\n",
    "model.add(MaxPooling2D(pool_size=(2, 2)))\n",
    "\n",
    "model.add(Conv2D(32, (3, 3)))\n",
    "model.add(Activation('relu'))\n",
    "model.add(MaxPooling2D(pool_size=(2, 2)))\n",
    "\n",
    "model.add(Conv2D(64, (3, 3)))\n",
    "model.add(Activation('relu'))\n",
    "model.add(MaxPooling2D(pool_size=(2, 2)))\n",
    "\n",
    "model.add(Flatten())\n",
    "model.add(Dense(64))\n",
    "model.add(Activation('relu'))\n",
    "model.add(Dropout(0.5))\n",
    "model.add(Dense(1))\n",
    "model.add(Activation('sigmoid'))"
   ]
  },
  {
   "cell_type": "markdown",
   "metadata": {},
   "source": [
    "Compiling the model and setting up the data augmentation"
   ]
  },
  {
   "cell_type": "code",
   "execution_count": 10,
   "metadata": {},
   "outputs": [],
   "source": [
    "model.compile(loss='binary_crossentropy',\n",
    "              optimizer='rmsprop',\n",
    "              metrics=['accuracy'])\n",
    "\n",
    "# this is the augmentation configuration we will use for training\n",
    "train_datagen = ImageDataGenerator(\n",
    "    rescale=1. / 255,\n",
    "    shear_range=0.2,\n",
    "    zoom_range=0.2,\n",
    "    horizontal_flip=True)\n",
    "\n",
    "# this is the augmentation configuration we will use for testing:\n",
    "# only rescaling\n",
    "test_datagen = ImageDataGenerator(rescale=1. / 255)"
   ]
  },
  {
   "cell_type": "markdown",
   "metadata": {},
   "source": [
    "Creating the data generators:"
   ]
  },
  {
   "cell_type": "code",
   "execution_count": 11,
   "metadata": {},
   "outputs": [
    {
     "name": "stdout",
     "output_type": "stream",
     "text": [
      "Found 210 images belonging to 2 classes.\n",
      "Found 100 images belonging to 2 classes.\n"
     ]
    }
   ],
   "source": [
    "train_generator = train_datagen.flow_from_directory(\n",
    "    train_data_dir,\n",
    "    target_size=(img_width, img_height),\n",
    "    batch_size=batch_size,\n",
    "    class_mode='binary')\n",
    "\n",
    "validation_generator = test_datagen.flow_from_directory(\n",
    "    validation_data_dir,\n",
    "    target_size=(img_width, img_height),\n",
    "    batch_size=batch_size,\n",
    "    class_mode='binary')"
   ]
  },
  {
   "cell_type": "code",
   "execution_count": 12,
   "metadata": {},
   "outputs": [
    {
     "name": "stdout",
     "output_type": "stream",
     "text": [
      "Epoch 1/50\n",
      "13/13 [==============================] - 8s 625ms/step - loss: 0.9845 - acc: 0.5385 - val_loss: 0.5852 - val_acc: 0.4792\n",
      "Epoch 2/50\n",
      "13/13 [==============================] - 5s 403ms/step - loss: 0.5061 - acc: 0.7513 - val_loss: 0.5827 - val_acc: 0.7262\n",
      "Epoch 3/50\n",
      "13/13 [==============================] - 5s 417ms/step - loss: 0.4938 - acc: 0.8141 - val_loss: 0.4958 - val_acc: 0.7976\n",
      "Epoch 4/50\n",
      "13/13 [==============================] - 5s 408ms/step - loss: 0.3674 - acc: 0.8357 - val_loss: 0.3034 - val_acc: 0.8571\n",
      "Epoch 5/50\n",
      "13/13 [==============================] - 6s 428ms/step - loss: 0.3293 - acc: 0.8528 - val_loss: 0.2138 - val_acc: 0.9167\n",
      "Epoch 6/50\n",
      "13/13 [==============================] - 6s 430ms/step - loss: 0.2754 - acc: 0.9082 - val_loss: 0.3013 - val_acc: 0.8929\n",
      "Epoch 7/50\n",
      "13/13 [==============================] - 5s 415ms/step - loss: 0.3575 - acc: 0.8840 - val_loss: 0.4394 - val_acc: 0.7619\n",
      "Epoch 8/50\n",
      "13/13 [==============================] - 6s 427ms/step - loss: 0.2399 - acc: 0.9011 - val_loss: 0.2315 - val_acc: 0.9062\n",
      "Epoch 9/50\n",
      "13/13 [==============================] - 5s 410ms/step - loss: 0.3170 - acc: 0.8528 - val_loss: 0.2621 - val_acc: 0.8929\n",
      "Epoch 10/50\n",
      "13/13 [==============================] - 6s 432ms/step - loss: 0.1681 - acc: 0.9517 - val_loss: 0.1253 - val_acc: 0.9524\n",
      "Epoch 11/50\n",
      "13/13 [==============================] - 5s 416ms/step - loss: 0.2926 - acc: 0.8937 - val_loss: 0.3514 - val_acc: 0.8690\n",
      "Epoch 12/50\n",
      "13/13 [==============================] - 6s 425ms/step - loss: 0.1515 - acc: 0.9468 - val_loss: 0.1987 - val_acc: 0.9167\n",
      "Epoch 13/50\n",
      "13/13 [==============================] - 5s 422ms/step - loss: 0.1598 - acc: 0.9420 - val_loss: 0.2426 - val_acc: 0.9286\n",
      "Epoch 14/50\n",
      "13/13 [==============================] - 5s 421ms/step - loss: 0.3175 - acc: 0.8769 - val_loss: 0.2450 - val_acc: 0.9524\n",
      "Epoch 15/50\n",
      "13/13 [==============================] - 6s 456ms/step - loss: 0.2248 - acc: 0.9375 - val_loss: 0.2212 - val_acc: 0.9167\n",
      "Epoch 16/50\n",
      "13/13 [==============================] - 5s 419ms/step - loss: 0.0953 - acc: 0.9662 - val_loss: 0.1908 - val_acc: 0.9286\n",
      "Epoch 17/50\n",
      "13/13 [==============================] - 5s 415ms/step - loss: 0.1487 - acc: 0.9565 - val_loss: 0.2030 - val_acc: 0.9286\n",
      "Epoch 18/50\n",
      "13/13 [==============================] - 6s 425ms/step - loss: 0.1313 - acc: 0.9517 - val_loss: 0.1776 - val_acc: 0.9286\n",
      "Epoch 19/50\n",
      "13/13 [==============================] - 6s 430ms/step - loss: 0.2177 - acc: 0.9059 - val_loss: 0.1205 - val_acc: 0.9524\n",
      "Epoch 20/50\n",
      "13/13 [==============================] - 6s 426ms/step - loss: 0.1353 - acc: 0.9253 - val_loss: 0.1719 - val_acc: 0.9643\n",
      "Epoch 21/50\n",
      "13/13 [==============================] - 5s 419ms/step - loss: 0.1781 - acc: 0.9468 - val_loss: 0.1891 - val_acc: 0.9167\n",
      "Epoch 22/50\n",
      "13/13 [==============================] - 6s 442ms/step - loss: 0.0774 - acc: 0.9662 - val_loss: 0.1820 - val_acc: 0.9375\n",
      "Epoch 23/50\n",
      "13/13 [==============================] - 5s 414ms/step - loss: 0.3491 - acc: 0.9372 - val_loss: 0.4719 - val_acc: 0.8571\n",
      "Epoch 24/50\n",
      "13/13 [==============================] - 5s 408ms/step - loss: 0.0803 - acc: 0.9710 - val_loss: 0.2471 - val_acc: 0.9167\n",
      "Epoch 25/50\n",
      "13/13 [==============================] - 6s 427ms/step - loss: 0.0302 - acc: 0.9855 - val_loss: 0.2331 - val_acc: 0.9286\n",
      "Epoch 26/50\n",
      "13/13 [==============================] - 5s 419ms/step - loss: 0.2321 - acc: 0.9613 - val_loss: 0.5741 - val_acc: 0.8690\n",
      "Epoch 27/50\n",
      "13/13 [==============================] - 6s 427ms/step - loss: 0.1019 - acc: 0.9517 - val_loss: 0.1578 - val_acc: 0.9167\n",
      "Epoch 28/50\n",
      "13/13 [==============================] - 6s 426ms/step - loss: 0.1133 - acc: 0.9710 - val_loss: 0.2871 - val_acc: 0.9167\n",
      "Epoch 29/50\n",
      "13/13 [==============================] - 6s 446ms/step - loss: 0.0683 - acc: 0.9712 - val_loss: 0.3975 - val_acc: 0.8646\n",
      "Epoch 30/50\n",
      "13/13 [==============================] - 5s 420ms/step - loss: 0.1225 - acc: 0.9662 - val_loss: 0.1972 - val_acc: 0.9524\n",
      "Epoch 31/50\n",
      "13/13 [==============================] - 5s 410ms/step - loss: 0.0359 - acc: 0.9952 - val_loss: 0.1927 - val_acc: 0.9167\n",
      "Epoch 32/50\n",
      "13/13 [==============================] - 6s 425ms/step - loss: 0.2307 - acc: 0.9468 - val_loss: 0.2120 - val_acc: 0.9286\n",
      "Epoch 33/50\n",
      "13/13 [==============================] - 6s 423ms/step - loss: 0.0368 - acc: 0.9855 - val_loss: 0.2198 - val_acc: 0.9405\n",
      "Epoch 34/50\n",
      "13/13 [==============================] - 5s 420ms/step - loss: 0.0113 - acc: 0.9952 - val_loss: 0.2184 - val_acc: 0.9167\n",
      "Epoch 35/50\n",
      "13/13 [==============================] - 5s 414ms/step - loss: 0.0068 - acc: 1.0000 - val_loss: 0.3119 - val_acc: 0.9167\n",
      "Epoch 36/50\n",
      "13/13 [==============================] - 6s 426ms/step - loss: 0.2178 - acc: 0.9253 - val_loss: 0.2140 - val_acc: 0.9062\n",
      "Epoch 37/50\n",
      "13/13 [==============================] - 5s 423ms/step - loss: 0.0297 - acc: 0.9855 - val_loss: 0.1090 - val_acc: 0.9643\n",
      "Epoch 38/50\n",
      "13/13 [==============================] - 6s 430ms/step - loss: 0.0176 - acc: 0.9952 - val_loss: 0.2779 - val_acc: 0.9048\n",
      "Epoch 39/50\n",
      "13/13 [==============================] - 5s 420ms/step - loss: 0.0235 - acc: 0.9903 - val_loss: 0.1800 - val_acc: 0.9286\n",
      "Epoch 40/50\n",
      "13/13 [==============================] - 5s 422ms/step - loss: 0.0210 - acc: 0.9952 - val_loss: 0.2970 - val_acc: 0.9405\n",
      "Epoch 41/50\n",
      "13/13 [==============================] - 6s 431ms/step - loss: 0.0841 - acc: 0.9807 - val_loss: 0.1727 - val_acc: 0.9524\n",
      "Epoch 42/50\n",
      "13/13 [==============================] - 6s 424ms/step - loss: 0.0057 - acc: 1.0000 - val_loss: 0.2344 - val_acc: 0.9405\n",
      "Epoch 43/50\n",
      "13/13 [==============================] - 6s 460ms/step - loss: 0.1737 - acc: 0.9615 - val_loss: 0.1705 - val_acc: 0.9167\n",
      "Epoch 44/50\n",
      "13/13 [==============================] - 5s 405ms/step - loss: 0.0250 - acc: 0.9903 - val_loss: 0.2453 - val_acc: 0.9286\n",
      "Epoch 45/50\n",
      "13/13 [==============================] - 5s 419ms/step - loss: 0.1460 - acc: 0.9398 - val_loss: 0.1356 - val_acc: 0.9643\n",
      "Epoch 46/50\n",
      "13/13 [==============================] - 5s 411ms/step - loss: 0.0866 - acc: 0.9807 - val_loss: 0.5579 - val_acc: 0.8571\n",
      "Epoch 47/50\n",
      "13/13 [==============================] - 5s 419ms/step - loss: 0.0153 - acc: 0.9952 - val_loss: 0.1729 - val_acc: 0.9286\n",
      "Epoch 48/50\n",
      "13/13 [==============================] - 6s 428ms/step - loss: 0.0113 - acc: 0.9952 - val_loss: 0.3843 - val_acc: 0.9048\n",
      "Epoch 49/50\n",
      "13/13 [==============================] - 5s 418ms/step - loss: 0.0345 - acc: 0.9807 - val_loss: 0.3855 - val_acc: 0.9405\n",
      "Epoch 50/50\n",
      "13/13 [==============================] - 6s 431ms/step - loss: 0.1483 - acc: 0.9565 - val_loss: 0.2798 - val_acc: 0.9375\n"
     ]
    }
   ],
   "source": [
    "model.fit_generator(\n",
    "    train_generator,\n",
    "    steps_per_epoch=nb_train_samples // batch_size,\n",
    "    epochs=epochs,\n",
    "    validation_data=validation_generator,\n",
    "    validation_steps=nb_validation_samples // batch_size)\n",
    "\n",
    "model.save('first_try.h5')"
   ]
  },
  {
   "cell_type": "code",
   "execution_count": null,
   "metadata": {},
   "outputs": [],
   "source": []
  }
 ],
 "metadata": {
  "kernelspec": {
   "display_name": "Python 3",
   "language": "python",
   "name": "python3"
  },
  "language_info": {
   "codemirror_mode": {
    "name": "ipython",
    "version": 3
   },
   "file_extension": ".py",
   "mimetype": "text/x-python",
   "name": "python",
   "nbconvert_exporter": "python",
   "pygments_lexer": "ipython3",
   "version": "3.6.6"
  }
 },
 "nbformat": 4,
 "nbformat_minor": 2
}
